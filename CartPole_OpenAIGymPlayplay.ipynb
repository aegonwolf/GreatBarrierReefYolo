{
  "cells": [
    {
      "cell_type": "markdown",
      "metadata": {
        "id": "view-in-github",
        "colab_type": "text"
      },
      "source": [
        "<a href=\"https://colab.research.google.com/github/aegonwolf/GreatBarrierReefYolo/blob/main/CartPole_OpenAIGymPlayplay.ipynb\" target=\"_parent\"><img src=\"https://colab.research.google.com/assets/colab-badge.svg\" alt=\"Open In Colab\"/></a>"
      ]
    },
    {
      "cell_type": "code",
      "execution_count": null,
      "metadata": {
        "id": "MGhlNIx3ikRF"
      },
      "outputs": [],
      "source": [
        "  #remove \" > /dev/null 2>&1\" to see what is going on under the hood\n",
        "!pip install gym pyvirtualdisplay > /dev/null 2>&1\n",
        "!apt-get install -y xvfb python-opengl ffmpeg > /dev/null 2>&1"
      ]
    },
    {
      "cell_type": "code",
      "execution_count": null,
      "metadata": {
        "colab": {
          "base_uri": "https://localhost:8080/"
        },
        "id": "SiOL_rF9io_l",
        "outputId": "bf524564-9900-49da-ed83-f81d6b3f8e08"
      },
      "outputs": [
        {
          "data": {
            "text/plain": [
              "<pyvirtualdisplay.display.Display at 0x7fda7416d490>"
            ]
          },
          "execution_count": 2,
          "metadata": {},
          "output_type": "execute_result"
        }
      ],
      "source": [
        "from pyvirtualdisplay import Display\n",
        "display = Display(visible=0, size=(1400, 900))\n",
        "display.start()"
      ]
    },
    {
      "cell_type": "code",
      "execution_count": null,
      "metadata": {
        "id": "oMtzVrEFisd-"
      },
      "outputs": [],
      "source": [
        "\"\"\"\n",
        "Utility functions to enable video recording of gym environment and displaying it\n",
        "To enable video, just do \"env = wrap_env(env)\"\"\n",
        "\"\"\"\n",
        "\n",
        "def show_video():\n",
        "  mp4list = glob.glob('video/*.mp4')\n",
        "  if len(mp4list) > 0:\n",
        "    mp4 = mp4list[0]\n",
        "    video = io.open(mp4, 'r+b').read()\n",
        "    encoded = base64.b64encode(video)\n",
        "    ipythondisplay.display(HTML(data='''<video alt=\"test\" autoplay \n",
        "                loop controls style=\"height: 400px;\">\n",
        "                <source src=\"data:video/mp4;base64,{0}\" type=\"video/mp4\" />\n",
        "             </video>'''.format(encoded.decode('ascii'))))\n",
        "  else: \n",
        "    print(\"Could not find video\")\n",
        "    \n",
        "\n",
        "def wrap_env(env):\n",
        "  env = Monitor(env, './video', force=True)\n",
        "  return env"
      ]
    },
    {
      "cell_type": "code",
      "execution_count": null,
      "metadata": {
        "id": "0NM6p0ougfCo"
      },
      "outputs": [],
      "source": [
        "import gym # openAi gym\n",
        "from gym import envs\n",
        "from gym.wrappers import Monitor\n",
        "import tensorflow as tf\n",
        "import numpy as np\n",
        "import random\n",
        "import matplotlib\n",
        "import matplotlib.pyplot as plt\n",
        "%matplotlib inline\n",
        "import math\n",
        "import glob\n",
        "import io\n",
        "import base64\n",
        "from IPython.display import HTML\n",
        "\n",
        "from IPython import display as ipythondisplay"
      ]
    },
    {
      "cell_type": "code",
      "execution_count": null,
      "metadata": {
        "colab": {
          "base_uri": "https://localhost:8080/"
        },
        "id": "Ymv2aVgr1stZ",
        "outputId": "4617d6b2-43a6-4a26-9391-01c0cdd611ce"
      },
      "outputs": [
        {
          "data": {
            "text/plain": [
              "5"
            ]
          },
          "execution_count": 5,
          "metadata": {},
          "output_type": "execute_result"
        }
      ],
      "source": [
        "np.max([5, 3])"
      ]
    },
    {
      "cell_type": "code",
      "execution_count": null,
      "metadata": {
        "colab": {
          "base_uri": "https://localhost:8080/"
        },
        "id": "Z1yuj6SbgkfG",
        "outputId": "86a3f3d4-e326-4ef0-9702-24faedcab878"
      },
      "outputs": [
        {
          "data": {
            "text/plain": [
              "Discrete(2)"
            ]
          },
          "execution_count": 6,
          "metadata": {},
          "output_type": "execute_result"
        }
      ],
      "source": [
        "import gym\n",
        "env = wrap_env(gym.make('CartPole-v1'))\n",
        "env.action_space# View the number of actions available in the environment"
      ]
    },
    {
      "cell_type": "code",
      "execution_count": null,
      "metadata": {
        "id": "V1tL2JNh2B2U"
      },
      "outputs": [],
      "source": [
        "buckets = [10, 10, 30, 30]\n",
        "obs_lb = env.observation_space.low\n",
        "obs_lb[0] = -2.5\n",
        "obs_lb[1] = -4\n",
        "obs_lb[3] = -4\n",
        "obs_lb[2] = -0.21"
      ]
    },
    {
      "cell_type": "code",
      "execution_count": null,
      "metadata": {
        "id": "u0UB5Ra3560f"
      },
      "outputs": [],
      "source": [
        "rng = np.random.default_rng()"
      ]
    },
    {
      "cell_type": "code",
      "execution_count": null,
      "metadata": {
        "id": "MBcWhzWnLusJ"
      },
      "outputs": [],
      "source": [
        "def bucketize(observation):\n",
        "  observation = (100*(observation - obs_lb)) / buckets\n",
        "  return observation.astype(int)"
      ]
    },
    {
      "cell_type": "code",
      "execution_count": null,
      "metadata": {
        "id": "j9luN6UDReZZ"
      },
      "outputs": [],
      "source": [
        "qtable = dict()\n",
        "epsilon = 0.3"
      ]
    },
    {
      "cell_type": "code",
      "execution_count": null,
      "metadata": {
        "colab": {
          "base_uri": "https://localhost:8080/"
        },
        "id": "NZ0swI572rYC",
        "outputId": "5e35f3fc-bb3a-4ff6-d2d0-ab65b3ca36dd"
      },
      "outputs": [
        {
          "data": {
            "text/plain": [
              "array([0.01817212, 0.00318154, 0.02600345, 0.03800486])"
            ]
          },
          "execution_count": 11,
          "metadata": {},
          "output_type": "execute_result"
        }
      ],
      "source": [
        "obs = env.reset()\n",
        "obs"
      ]
    },
    {
      "cell_type": "code",
      "execution_count": null,
      "metadata": {
        "id": "MevEJ8EQ3LMB"
      },
      "outputs": [],
      "source": [
        "lr = 0.2"
      ]
    },
    {
      "cell_type": "code",
      "execution_count": null,
      "metadata": {
        "id": "vba2q_Zchhgd"
      },
      "outputs": [],
      "source": [
        "def run_sim():\n",
        "  observation = env.reset()\n",
        "  observation = tuple(bucketize(observation))\n",
        "\n",
        "  score = 0\n",
        "  while True:\n",
        "      # actions = []\n",
        "      env.render()\n",
        "      if observation in qtable:\n",
        "        optimal_action = np.argmax(qtable[observation]['r'])\n",
        "        action = rng.choice([optimal_action, 1 - optimal_action], p = [1 - epsilon, epsilon])\n",
        "      else:\n",
        "        action = rng.choice([0, 1])\n",
        "        qtable[observation] = {'r': [0, 0], 'steps': [0, 0]}\n",
        "      qtable[observation]['steps'][action] += 1\n",
        "      current_reward = qtable[observation]['r'][action]\n",
        "      new_observation, reward, done, info = env.step(action) \n",
        "      new_observation = tuple(bucketize(new_observation))\n",
        "      if new_observation in qtable:\n",
        "        max_reward = np.max(qtable[new_observation]['r'])\n",
        "      else:\n",
        "        max_reward = 0\n",
        "      \n",
        "      \n",
        "      # actions.append((observation, action))\n",
        "      score += reward         \n",
        "      if done: \n",
        "        reward = -200\n",
        "        qtable[observation]['r'][action] = (1 - lr)* current_reward + lr * (reward + 0.99 * max_reward - current_reward) #changed to TD\n",
        "        break;    \n",
        "      qtable[observation]['r'][action] = (1-lr) * current_reward + lr * (reward + 0.99 * max_reward - current_reward)\n",
        "      observation = new_observation       \n",
        "  env.close()\n",
        "  # show_video()\n",
        "  return score"
      ]
    },
    {
      "cell_type": "code",
      "execution_count": null,
      "metadata": {
        "id": "2Yao-pcj6vvX"
      },
      "outputs": [],
      "source": [
        "# env.close()"
      ]
    },
    {
      "cell_type": "code",
      "execution_count": null,
      "metadata": {
        "colab": {
          "background_save": true,
          "base_uri": "https://localhost:8080/"
        },
        "id": "GXD8iG6Fh8uc",
        "outputId": "2a260e49-f887-4f51-912b-f96a3de76b7c"
      },
      "outputs": [
        {
          "output_type": "stream",
          "name": "stdout",
          "text": [
            "score avg of last 100 episodes @ 0 is 0.11\n",
            "score avg of last 100 episodes @ 100 is 22.22\n",
            "score avg of last 100 episodes @ 200 is 28.12\n",
            "score avg of last 100 episodes @ 300 is 28.74\n",
            "score avg of last 100 episodes @ 400 is 27.88\n",
            "score avg of last 100 episodes @ 500 is 31.8\n",
            "score avg of last 100 episodes @ 600 is 32.85\n",
            "score avg of last 100 episodes @ 700 is 33.54\n",
            "score avg of last 100 episodes @ 800 is 35.42\n",
            "score avg of last 100 episodes @ 900 is 38.2\n",
            "score avg of last 100 episodes @ 1000 is 38.54\n",
            "score avg of last 100 episodes @ 1100 is 40.56\n",
            "score avg of last 100 episodes @ 1200 is 44.9\n",
            "score avg of last 100 episodes @ 1300 is 39.68\n",
            "score avg of last 100 episodes @ 1400 is 39.73\n",
            "score avg of last 100 episodes @ 1500 is 44.79\n",
            "score avg of last 100 episodes @ 1600 is 38.88\n",
            "score avg of last 100 episodes @ 1700 is 42.64\n",
            "score avg of last 100 episodes @ 1800 is 46.56\n",
            "score avg of last 100 episodes @ 1900 is 48.84\n",
            "score avg of last 100 episodes @ 2000 is 47.4\n",
            "score avg of last 100 episodes @ 2100 is 44.69\n",
            "score avg of last 100 episodes @ 2200 is 52.43\n",
            "score avg of last 100 episodes @ 2300 is 51.82\n",
            "score avg of last 100 episodes @ 2400 is 50.78\n",
            "score avg of last 100 episodes @ 2500 is 40.65\n",
            "score avg of last 100 episodes @ 2600 is 44.5\n",
            "score avg of last 100 episodes @ 2700 is 43.81\n",
            "score avg of last 100 episodes @ 2800 is 45.97\n",
            "score avg of last 100 episodes @ 2900 is 53.75\n",
            "score avg of last 100 episodes @ 3000 is 55.08\n",
            "score avg of last 100 episodes @ 3100 is 49.07\n",
            "score avg of last 100 episodes @ 3200 is 41.72\n",
            "score avg of last 100 episodes @ 3300 is 49.44\n",
            "score avg of last 100 episodes @ 3400 is 60.78\n",
            "score avg of last 100 episodes @ 3500 is 54.86\n",
            "score avg of last 100 episodes @ 3600 is 50.7\n",
            "score avg of last 100 episodes @ 3700 is 51.7\n",
            "score avg of last 100 episodes @ 3800 is 46.65\n",
            "score avg of last 100 episodes @ 3900 is 54.61\n",
            "score avg of last 100 episodes @ 4000 is 60.21\n",
            "score avg of last 100 episodes @ 4100 is 54.19\n",
            "score avg of last 100 episodes @ 4200 is 53.38\n",
            "score avg of last 100 episodes @ 4300 is 54.03\n",
            "score avg of last 100 episodes @ 4400 is 57.21\n",
            "score avg of last 100 episodes @ 4500 is 56.76\n",
            "score avg of last 100 episodes @ 4600 is 57.1\n",
            "score avg of last 100 episodes @ 4700 is 56.54\n",
            "score avg of last 100 episodes @ 4800 is 57.26\n",
            "score avg of last 100 episodes @ 4900 is 59.05\n",
            "score avg of last 100 episodes @ 5000 is 57.09\n",
            "score avg of last 100 episodes @ 5100 is 54.21\n",
            "score avg of last 100 episodes @ 5200 is 55.07\n",
            "score avg of last 100 episodes @ 5300 is 62.53\n",
            "score avg of last 100 episodes @ 5400 is 57.93\n",
            "score avg of last 100 episodes @ 5500 is 59.52\n",
            "score avg of last 100 episodes @ 5600 is 63.02\n",
            "score avg of last 100 episodes @ 5700 is 57.81\n",
            "score avg of last 100 episodes @ 5800 is 57.27\n",
            "score avg of last 100 episodes @ 5900 is 60.59\n",
            "score avg of last 100 episodes @ 6000 is 52.38\n",
            "score avg of last 100 episodes @ 6100 is 57.86\n",
            "score avg of last 100 episodes @ 6200 is 61.35\n",
            "score avg of last 100 episodes @ 6300 is 61.06\n",
            "score avg of last 100 episodes @ 6400 is 68.81\n",
            "score avg of last 100 episodes @ 6500 is 59.89\n",
            "score avg of last 100 episodes @ 6600 is 61.24\n",
            "score avg of last 100 episodes @ 6700 is 68.16\n",
            "score avg of last 100 episodes @ 6800 is 63.22\n",
            "score avg of last 100 episodes @ 6900 is 58.87\n",
            "score avg of last 100 episodes @ 7000 is 62.38\n",
            "score avg of last 100 episodes @ 7100 is 62.77\n",
            "score avg of last 100 episodes @ 7200 is 65.94\n",
            "score avg of last 100 episodes @ 7300 is 62.48\n",
            "score avg of last 100 episodes @ 7400 is 64.23\n",
            "score avg of last 100 episodes @ 7500 is 72.53\n",
            "score avg of last 100 episodes @ 7600 is 75.13\n",
            "score avg of last 100 episodes @ 7700 is 70.94\n",
            "score avg of last 100 episodes @ 7800 is 66.15\n",
            "score avg of last 100 episodes @ 7900 is 68.4\n",
            "score avg of last 100 episodes @ 8000 is 64.47\n",
            "score avg of last 100 episodes @ 8100 is 74.19\n",
            "score avg of last 100 episodes @ 8200 is 62.72\n",
            "score avg of last 100 episodes @ 8300 is 73.5\n",
            "score avg of last 100 episodes @ 8400 is 64.91\n",
            "score avg of last 100 episodes @ 8500 is 67.16\n",
            "score avg of last 100 episodes @ 8600 is 72.65\n",
            "score avg of last 100 episodes @ 8700 is 68.94\n",
            "score avg of last 100 episodes @ 8800 is 73.48\n",
            "score avg of last 100 episodes @ 8900 is 74.07\n",
            "score avg of last 100 episodes @ 9000 is 70.6\n",
            "score avg of last 100 episodes @ 9100 is 79.99\n",
            "score avg of last 100 episodes @ 9200 is 71.32\n",
            "score avg of last 100 episodes @ 9300 is 66.7\n",
            "score avg of last 100 episodes @ 9400 is 67.7\n",
            "score avg of last 100 episodes @ 9500 is 75.18\n",
            "score avg of last 100 episodes @ 9600 is 74.06\n",
            "score avg of last 100 episodes @ 9700 is 71.47\n",
            "score avg of last 100 episodes @ 9800 is 86.37\n",
            "score avg of last 100 episodes @ 9900 is 72.77\n",
            "score avg of last 100 episodes @ 10000 is 72.7\n",
            "score avg of last 100 episodes @ 10100 is 77.09\n",
            "score avg of last 100 episodes @ 10200 is 64.7\n",
            "score avg of last 100 episodes @ 10300 is 63.3\n",
            "score avg of last 100 episodes @ 10400 is 75.41\n",
            "score avg of last 100 episodes @ 10500 is 89.51\n",
            "score avg of last 100 episodes @ 10600 is 68.87\n",
            "score avg of last 100 episodes @ 10700 is 77.37\n",
            "score avg of last 100 episodes @ 10800 is 81.98\n",
            "score avg of last 100 episodes @ 10900 is 64.61\n",
            "score avg of last 100 episodes @ 11000 is 82.67\n",
            "score avg of last 100 episodes @ 11100 is 79.14\n",
            "score avg of last 100 episodes @ 11200 is 70.25\n",
            "score avg of last 100 episodes @ 11300 is 83.21\n",
            "score avg of last 100 episodes @ 11400 is 84.01\n",
            "score avg of last 100 episodes @ 11500 is 88.96\n",
            "score avg of last 100 episodes @ 11600 is 81.98\n",
            "score avg of last 100 episodes @ 11700 is 90.4\n",
            "score avg of last 100 episodes @ 11800 is 82.41\n",
            "score avg of last 100 episodes @ 11900 is 76.2\n",
            "score avg of last 100 episodes @ 12000 is 77.57\n",
            "score avg of last 100 episodes @ 12100 is 74.96\n",
            "score avg of last 100 episodes @ 12200 is 66.6\n",
            "score avg of last 100 episodes @ 12300 is 64.56\n",
            "score avg of last 100 episodes @ 12400 is 79.85\n",
            "score avg of last 100 episodes @ 12500 is 85.54\n",
            "score avg of last 100 episodes @ 12600 is 80.27\n",
            "score avg of last 100 episodes @ 12700 is 78.81\n",
            "score avg of last 100 episodes @ 12800 is 85.65\n",
            "score avg of last 100 episodes @ 12900 is 81.22\n",
            "score avg of last 100 episodes @ 13000 is 82.49\n",
            "score avg of last 100 episodes @ 13100 is 70.27\n",
            "score avg of last 100 episodes @ 13200 is 87.62\n",
            "score avg of last 100 episodes @ 13300 is 77.92\n",
            "score avg of last 100 episodes @ 13400 is 73.37\n",
            "score avg of last 100 episodes @ 13500 is 76.12\n",
            "score avg of last 100 episodes @ 13600 is 88.93\n",
            "score avg of last 100 episodes @ 13700 is 98.77\n",
            "score avg of last 100 episodes @ 13800 is 81.76\n",
            "score avg of last 100 episodes @ 13900 is 78.69\n",
            "score avg of last 100 episodes @ 14000 is 84.34\n",
            "score avg of last 100 episodes @ 14100 is 83.95\n",
            "score avg of last 100 episodes @ 14200 is 91.05\n",
            "score avg of last 100 episodes @ 14300 is 93.99\n",
            "score avg of last 100 episodes @ 14400 is 93.38\n",
            "score avg of last 100 episodes @ 14500 is 85.3\n",
            "score avg of last 100 episodes @ 14600 is 85.73\n",
            "score avg of last 100 episodes @ 14700 is 89.03\n",
            "score avg of last 100 episodes @ 14800 is 87.25\n",
            "score avg of last 100 episodes @ 14900 is 110.15\n",
            "score avg of last 100 episodes @ 15000 is 104.14\n",
            "score avg of last 100 episodes @ 15100 is 100.2\n",
            "score avg of last 100 episodes @ 15200 is 102.07\n",
            "score avg of last 100 episodes @ 15300 is 95.34\n",
            "score avg of last 100 episodes @ 15400 is 97.06\n",
            "score avg of last 100 episodes @ 15500 is 97.56\n",
            "score avg of last 100 episodes @ 15600 is 112.64\n",
            "score avg of last 100 episodes @ 15700 is 97.12\n",
            "score avg of last 100 episodes @ 15800 is 107.34\n",
            "score avg of last 100 episodes @ 15900 is 94.78\n",
            "score avg of last 100 episodes @ 16000 is 112.29\n",
            "score avg of last 100 episodes @ 16100 is 106.32\n",
            "score avg of last 100 episodes @ 16200 is 113.37\n",
            "score avg of last 100 episodes @ 16300 is 102.49\n",
            "score avg of last 100 episodes @ 16400 is 111.25\n",
            "score avg of last 100 episodes @ 16500 is 92.75\n",
            "score avg of last 100 episodes @ 16600 is 104.96\n",
            "score avg of last 100 episodes @ 16700 is 111.84\n",
            "score avg of last 100 episodes @ 16800 is 98.26\n",
            "score avg of last 100 episodes @ 16900 is 89.0\n",
            "score avg of last 100 episodes @ 17000 is 94.26\n",
            "score avg of last 100 episodes @ 17100 is 91.52\n",
            "score avg of last 100 episodes @ 17200 is 108.8\n",
            "score avg of last 100 episodes @ 17300 is 107.75\n",
            "score avg of last 100 episodes @ 17400 is 108.55\n",
            "score avg of last 100 episodes @ 17500 is 108.99\n",
            "score avg of last 100 episodes @ 17600 is 115.81\n",
            "score avg of last 100 episodes @ 17700 is 89.27\n",
            "score avg of last 100 episodes @ 17800 is 102.86\n",
            "score avg of last 100 episodes @ 17900 is 100.27\n",
            "score avg of last 100 episodes @ 18000 is 85.92\n",
            "score avg of last 100 episodes @ 18100 is 95.38\n",
            "score avg of last 100 episodes @ 18200 is 127.08\n",
            "score avg of last 100 episodes @ 18300 is 121.08\n",
            "score avg of last 100 episodes @ 18400 is 114.64\n",
            "score avg of last 100 episodes @ 18500 is 97.88\n",
            "score avg of last 100 episodes @ 18600 is 106.08\n",
            "score avg of last 100 episodes @ 18700 is 109.51\n",
            "score avg of last 100 episodes @ 18800 is 109.71\n",
            "score avg of last 100 episodes @ 18900 is 89.53\n",
            "score avg of last 100 episodes @ 19000 is 96.23\n",
            "score avg of last 100 episodes @ 19100 is 100.38\n",
            "score avg of last 100 episodes @ 19200 is 109.27\n",
            "score avg of last 100 episodes @ 19300 is 110.44\n",
            "score avg of last 100 episodes @ 19400 is 101.06\n",
            "score avg of last 100 episodes @ 19500 is 101.42\n",
            "score avg of last 100 episodes @ 19600 is 97.82\n",
            "score avg of last 100 episodes @ 19700 is 110.14\n",
            "score avg of last 100 episodes @ 19800 is 101.79\n",
            "score avg of last 100 episodes @ 19900 is 87.42\n",
            "score avg of last 100 episodes @ 20000 is 112.05\n",
            "score avg of last 100 episodes @ 20100 is 114.84\n",
            "score avg of last 100 episodes @ 20200 is 115.25\n",
            "score avg of last 100 episodes @ 20300 is 124.04\n",
            "score avg of last 100 episodes @ 20400 is 118.37\n",
            "score avg of last 100 episodes @ 20500 is 111.9\n",
            "score avg of last 100 episodes @ 20600 is 102.66\n",
            "score avg of last 100 episodes @ 20700 is 127.51\n",
            "score avg of last 100 episodes @ 20800 is 129.48\n",
            "score avg of last 100 episodes @ 20900 is 119.12\n",
            "score avg of last 100 episodes @ 21000 is 125.86\n",
            "score avg of last 100 episodes @ 21100 is 103.87\n",
            "score avg of last 100 episodes @ 21200 is 120.57\n",
            "score avg of last 100 episodes @ 21300 is 136.62\n",
            "score avg of last 100 episodes @ 21400 is 113.12\n",
            "score avg of last 100 episodes @ 21500 is 116.39\n",
            "score avg of last 100 episodes @ 21600 is 134.79\n",
            "score avg of last 100 episodes @ 21700 is 120.08\n",
            "score avg of last 100 episodes @ 21800 is 113.88\n",
            "score avg of last 100 episodes @ 21900 is 129.39\n",
            "score avg of last 100 episodes @ 22000 is 128.47\n",
            "score avg of last 100 episodes @ 22100 is 134.33\n",
            "score avg of last 100 episodes @ 22200 is 123.09\n",
            "score avg of last 100 episodes @ 22300 is 117.35\n",
            "score avg of last 100 episodes @ 22400 is 129.21\n",
            "score avg of last 100 episodes @ 22500 is 145.13\n",
            "score avg of last 100 episodes @ 22600 is 124.51\n",
            "score avg of last 100 episodes @ 22700 is 135.68\n",
            "score avg of last 100 episodes @ 22800 is 135.48\n",
            "score avg of last 100 episodes @ 22900 is 123.22\n",
            "score avg of last 100 episodes @ 23000 is 112.55\n",
            "score avg of last 100 episodes @ 23100 is 100.88\n",
            "score avg of last 100 episodes @ 23200 is 122.8\n",
            "score avg of last 100 episodes @ 23300 is 122.33\n",
            "score avg of last 100 episodes @ 23400 is 135.05\n",
            "score avg of last 100 episodes @ 23500 is 117.29\n",
            "score avg of last 100 episodes @ 23600 is 106.46\n",
            "score avg of last 100 episodes @ 23700 is 105.59\n",
            "score avg of last 100 episodes @ 23800 is 100.87\n",
            "score avg of last 100 episodes @ 23900 is 98.09\n",
            "score avg of last 100 episodes @ 24000 is 94.62\n",
            "score avg of last 100 episodes @ 24100 is 102.99\n",
            "score avg of last 100 episodes @ 24200 is 102.36\n",
            "score avg of last 100 episodes @ 24300 is 105.52\n",
            "score avg of last 100 episodes @ 24400 is 94.7\n",
            "score avg of last 100 episodes @ 24500 is 107.91\n",
            "score avg of last 100 episodes @ 24600 is 128.07\n",
            "score avg of last 100 episodes @ 24700 is 124.34\n",
            "score avg of last 100 episodes @ 24800 is 128.12\n",
            "score avg of last 100 episodes @ 24900 is 122.79\n",
            "score avg of last 100 episodes @ 25000 is 128.04\n",
            "score avg of last 100 episodes @ 25100 is 110.61\n",
            "score avg of last 100 episodes @ 25200 is 104.58\n",
            "score avg of last 100 episodes @ 25300 is 87.49\n",
            "score avg of last 100 episodes @ 25400 is 119.25\n",
            "score avg of last 100 episodes @ 25500 is 81.75\n",
            "score avg of last 100 episodes @ 25600 is 117.5\n",
            "score avg of last 100 episodes @ 25700 is 117.78\n",
            "score avg of last 100 episodes @ 25800 is 121.21\n",
            "score avg of last 100 episodes @ 25900 is 137.39\n",
            "score avg of last 100 episodes @ 26000 is 128.13\n",
            "score avg of last 100 episodes @ 26100 is 138.62\n",
            "score avg of last 100 episodes @ 26200 is 127.19\n",
            "score avg of last 100 episodes @ 26300 is 133.07\n",
            "score avg of last 100 episodes @ 26400 is 121.25\n",
            "score avg of last 100 episodes @ 26500 is 124.94\n",
            "score avg of last 100 episodes @ 26600 is 147.65\n",
            "score avg of last 100 episodes @ 26700 is 128.44\n",
            "score avg of last 100 episodes @ 26800 is 134.11\n",
            "score avg of last 100 episodes @ 26900 is 131.26\n",
            "score avg of last 100 episodes @ 27000 is 138.71\n",
            "score avg of last 100 episodes @ 27100 is 153.49\n",
            "score avg of last 100 episodes @ 27200 is 131.95\n",
            "score avg of last 100 episodes @ 27300 is 130.49\n",
            "score avg of last 100 episodes @ 27400 is 147.78\n",
            "score avg of last 100 episodes @ 27500 is 135.5\n",
            "score avg of last 100 episodes @ 27600 is 135.4\n",
            "score avg of last 100 episodes @ 27700 is 126.64\n",
            "score avg of last 100 episodes @ 27800 is 115.47\n",
            "score avg of last 100 episodes @ 27900 is 141.12\n",
            "score avg of last 100 episodes @ 28000 is 121.3\n",
            "score avg of last 100 episodes @ 28100 is 121.56\n",
            "score avg of last 100 episodes @ 28200 is 139.75\n",
            "score avg of last 100 episodes @ 28300 is 143.39\n",
            "score avg of last 100 episodes @ 28400 is 125.01\n",
            "score avg of last 100 episodes @ 28500 is 134.51\n",
            "score avg of last 100 episodes @ 28600 is 131.79\n",
            "score avg of last 100 episodes @ 28700 is 152.35\n",
            "score avg of last 100 episodes @ 28800 is 107.64\n",
            "score avg of last 100 episodes @ 28900 is 102.41\n",
            "score avg of last 100 episodes @ 29000 is 111.06\n",
            "score avg of last 100 episodes @ 29100 is 109.87\n",
            "score avg of last 100 episodes @ 29200 is 115.92\n",
            "score avg of last 100 episodes @ 29300 is 108.94\n",
            "score avg of last 100 episodes @ 29400 is 118.3\n",
            "score avg of last 100 episodes @ 29500 is 134.04\n",
            "score avg of last 100 episodes @ 29600 is 132.29\n",
            "score avg of last 100 episodes @ 29700 is 113.2\n",
            "score avg of last 100 episodes @ 29800 is 133.38\n",
            "score avg of last 100 episodes @ 29900 is 149.22\n",
            "score avg of last 100 episodes @ 30000 is 144.32\n",
            "score avg of last 100 episodes @ 30100 is 131.81\n",
            "score avg of last 100 episodes @ 30200 is 143.15\n",
            "score avg of last 100 episodes @ 30300 is 136.78\n",
            "score avg of last 100 episodes @ 30400 is 123.11\n",
            "score avg of last 100 episodes @ 30500 is 145.4\n",
            "score avg of last 100 episodes @ 30600 is 143.91\n",
            "score avg of last 100 episodes @ 30700 is 154.04\n",
            "score avg of last 100 episodes @ 30800 is 138.95\n",
            "score avg of last 100 episodes @ 30900 is 128.98\n",
            "score avg of last 100 episodes @ 31000 is 139.93\n",
            "score avg of last 100 episodes @ 31100 is 134.36\n",
            "score avg of last 100 episodes @ 31200 is 141.03\n",
            "score avg of last 100 episodes @ 31300 is 129.92\n",
            "score avg of last 100 episodes @ 31400 is 131.04\n",
            "score avg of last 100 episodes @ 31500 is 108.32\n",
            "score avg of last 100 episodes @ 31600 is 118.62\n",
            "score avg of last 100 episodes @ 31700 is 120.21\n",
            "score avg of last 100 episodes @ 31800 is 127.09\n",
            "score avg of last 100 episodes @ 31900 is 148.46\n",
            "score avg of last 100 episodes @ 32000 is 149.7\n",
            "score avg of last 100 episodes @ 32100 is 153.44\n",
            "score avg of last 100 episodes @ 32200 is 152.18\n",
            "score avg of last 100 episodes @ 32300 is 140.97\n",
            "score avg of last 100 episodes @ 32400 is 136.68\n",
            "score avg of last 100 episodes @ 32500 is 140.46\n",
            "score avg of last 100 episodes @ 32600 is 141.81\n",
            "score avg of last 100 episodes @ 32700 is 162.94\n",
            "score avg of last 100 episodes @ 32800 is 161.53\n",
            "score avg of last 100 episodes @ 32900 is 149.82\n",
            "score avg of last 100 episodes @ 33000 is 142.9\n",
            "score avg of last 100 episodes @ 33100 is 144.97\n",
            "score avg of last 100 episodes @ 33200 is 121.13\n",
            "score avg of last 100 episodes @ 33300 is 115.89\n",
            "score avg of last 100 episodes @ 33400 is 130.03\n",
            "score avg of last 100 episodes @ 33500 is 131.64\n",
            "score avg of last 100 episodes @ 33600 is 128.98\n",
            "score avg of last 100 episodes @ 33700 is 137.2\n",
            "score avg of last 100 episodes @ 33800 is 141.37\n",
            "score avg of last 100 episodes @ 33900 is 149.71\n",
            "score avg of last 100 episodes @ 34000 is 143.02\n",
            "score avg of last 100 episodes @ 34100 is 131.45\n",
            "score avg of last 100 episodes @ 34200 is 138.32\n",
            "score avg of last 100 episodes @ 34300 is 145.45\n",
            "score avg of last 100 episodes @ 34400 is 156.05\n",
            "score avg of last 100 episodes @ 34500 is 163.78\n",
            "score avg of last 100 episodes @ 34600 is 128.33\n",
            "score avg of last 100 episodes @ 34700 is 136.34\n",
            "score avg of last 100 episodes @ 34800 is 129.28\n",
            "score avg of last 100 episodes @ 34900 is 129.72\n",
            "score avg of last 100 episodes @ 35000 is 98.97\n",
            "score avg of last 100 episodes @ 35100 is 116.26\n",
            "score avg of last 100 episodes @ 35200 is 113.57\n",
            "score avg of last 100 episodes @ 35300 is 94.11\n",
            "score avg of last 100 episodes @ 35400 is 99.3\n",
            "score avg of last 100 episodes @ 35500 is 130.44\n",
            "score avg of last 100 episodes @ 35600 is 154.93\n",
            "score avg of last 100 episodes @ 35700 is 154.41\n",
            "score avg of last 100 episodes @ 35800 is 131.74\n",
            "score avg of last 100 episodes @ 35900 is 150.51\n",
            "score avg of last 100 episodes @ 36000 is 155.66\n",
            "score avg of last 100 episodes @ 36100 is 156.11\n",
            "score avg of last 100 episodes @ 36200 is 149.29\n",
            "score avg of last 100 episodes @ 36300 is 136.32\n",
            "score avg of last 100 episodes @ 36400 is 132.39\n",
            "score avg of last 100 episodes @ 36500 is 134.55\n",
            "score avg of last 100 episodes @ 36600 is 140.17\n",
            "score avg of last 100 episodes @ 36700 is 125.42\n",
            "score avg of last 100 episodes @ 36800 is 120.79\n",
            "score avg of last 100 episodes @ 36900 is 146.64\n",
            "score avg of last 100 episodes @ 37000 is 139.53\n",
            "score avg of last 100 episodes @ 37100 is 129.65\n",
            "score avg of last 100 episodes @ 37200 is 146.74\n",
            "score avg of last 100 episodes @ 37300 is 153.97\n",
            "score avg of last 100 episodes @ 37400 is 152.63\n",
            "score avg of last 100 episodes @ 37500 is 152.27\n",
            "score avg of last 100 episodes @ 37600 is 147.81\n",
            "score avg of last 100 episodes @ 37700 is 125.07\n",
            "score avg of last 100 episodes @ 37800 is 132.06\n",
            "score avg of last 100 episodes @ 37900 is 134.83\n",
            "score avg of last 100 episodes @ 38000 is 158.48\n",
            "score avg of last 100 episodes @ 38100 is 163.51\n",
            "score avg of last 100 episodes @ 38200 is 140.54\n",
            "score avg of last 100 episodes @ 38300 is 156.14\n",
            "score avg of last 100 episodes @ 38400 is 160.51\n",
            "score avg of last 100 episodes @ 38500 is 149.78\n",
            "score avg of last 100 episodes @ 38600 is 166.86\n",
            "score avg of last 100 episodes @ 38700 is 135.21\n",
            "score avg of last 100 episodes @ 38800 is 131.67\n",
            "score avg of last 100 episodes @ 38900 is 142.38\n",
            "score avg of last 100 episodes @ 39000 is 147.96\n",
            "score avg of last 100 episodes @ 39100 is 151.4\n",
            "score avg of last 100 episodes @ 39200 is 161.76\n",
            "score avg of last 100 episodes @ 39300 is 126.97\n"
          ]
        }
      ],
      "source": [
        "avg = 0\n",
        "for episode in range(50000):\n",
        "  epsilon = epsilon*0.99995\n",
        "  score = run_sim()\n",
        "  avg += score\n",
        "  if episode % 100 == 0:\n",
        "    avg = avg / 100.0\n",
        "    print(f'score avg of last 100 episodes @ {episode} is {avg}')\n",
        "    avg = 0"
      ]
    },
    {
      "cell_type": "code",
      "execution_count": null,
      "metadata": {
        "id": "BKfQ3bQUocpb"
      },
      "outputs": [],
      "source": [
        "epsilon = 0.1"
      ]
    },
    {
      "cell_type": "code",
      "execution_count": null,
      "metadata": {
        "colab": {
          "background_save": true,
          "base_uri": "https://localhost:8080/"
        },
        "id": "fKItqfha2hRZ",
        "outputId": "b22f015a-b09e-474a-ee17-2be76b3448c8"
      },
      "outputs": [
        {
          "name": "stdout",
          "output_type": "stream",
          "text": [
            "score avg of last 100 episodes @ 0 is 0.37\n",
            "score avg of last 100 episodes @ 100 is 162.39\n",
            "score avg of last 100 episodes @ 200 is 133.53\n",
            "score avg of last 100 episodes @ 300 is 157.2\n",
            "score avg of last 100 episodes @ 400 is 136.58\n",
            "score avg of last 100 episodes @ 500 is 117.19\n",
            "score avg of last 100 episodes @ 600 is 154.39\n",
            "score avg of last 100 episodes @ 700 is 165.4\n",
            "score avg of last 100 episodes @ 800 is 154.61\n",
            "score avg of last 100 episodes @ 900 is 153.79\n",
            "score avg of last 100 episodes @ 1000 is 153.54\n",
            "score avg of last 100 episodes @ 1100 is 146.08\n",
            "score avg of last 100 episodes @ 1200 is 153.14\n",
            "score avg of last 100 episodes @ 1300 is 157.78\n",
            "score avg of last 100 episodes @ 1400 is 154.65\n",
            "score avg of last 100 episodes @ 1500 is 143.74\n",
            "score avg of last 100 episodes @ 1600 is 149.13\n",
            "score avg of last 100 episodes @ 1700 is 166.74\n",
            "score avg of last 100 episodes @ 1800 is 145.53\n",
            "score avg of last 100 episodes @ 1900 is 157.55\n",
            "score avg of last 100 episodes @ 2000 is 139.82\n",
            "score avg of last 100 episodes @ 2100 is 154.35\n",
            "score avg of last 100 episodes @ 2200 is 157.84\n",
            "score avg of last 100 episodes @ 2300 is 181.96\n",
            "score avg of last 100 episodes @ 2400 is 175.89\n",
            "score avg of last 100 episodes @ 2500 is 159.55\n",
            "score avg of last 100 episodes @ 2600 is 152.36\n",
            "score avg of last 100 episodes @ 2700 is 161.05\n",
            "score avg of last 100 episodes @ 2800 is 173.34\n",
            "score avg of last 100 episodes @ 2900 is 175.62\n",
            "score avg of last 100 episodes @ 3000 is 157.06\n",
            "score avg of last 100 episodes @ 3100 is 168.43\n",
            "score avg of last 100 episodes @ 3200 is 171.01\n",
            "score avg of last 100 episodes @ 3300 is 181.48\n",
            "score avg of last 100 episodes @ 3400 is 154.56\n",
            "score avg of last 100 episodes @ 3500 is 161.81\n",
            "score avg of last 100 episodes @ 3600 is 154.76\n",
            "score avg of last 100 episodes @ 3700 is 150.4\n",
            "score avg of last 100 episodes @ 3800 is 173.45\n",
            "score avg of last 100 episodes @ 3900 is 156.42\n",
            "score avg of last 100 episodes @ 4000 is 163.45\n",
            "score avg of last 100 episodes @ 4100 is 159.88\n",
            "score avg of last 100 episodes @ 4200 is 175.73\n",
            "score avg of last 100 episodes @ 4300 is 160.68\n",
            "score avg of last 100 episodes @ 4400 is 183.41\n",
            "score avg of last 100 episodes @ 4500 is 147.01\n",
            "score avg of last 100 episodes @ 4600 is 166.12\n",
            "score avg of last 100 episodes @ 4700 is 197.51\n",
            "score avg of last 100 episodes @ 4800 is 163.02\n",
            "score avg of last 100 episodes @ 4900 is 169.18\n",
            "score avg of last 100 episodes @ 5000 is 173.57\n",
            "score avg of last 100 episodes @ 5100 is 157.38\n",
            "score avg of last 100 episodes @ 5200 is 145.83\n",
            "score avg of last 100 episodes @ 5300 is 159.98\n",
            "score avg of last 100 episodes @ 5400 is 157.79\n",
            "score avg of last 100 episodes @ 5500 is 154.31\n",
            "score avg of last 100 episodes @ 5600 is 139.66\n",
            "score avg of last 100 episodes @ 5700 is 145.9\n",
            "score avg of last 100 episodes @ 5800 is 141.54\n",
            "score avg of last 100 episodes @ 5900 is 161.36\n",
            "score avg of last 100 episodes @ 6000 is 176.82\n",
            "score avg of last 100 episodes @ 6100 is 188.33\n",
            "score avg of last 100 episodes @ 6200 is 181.09\n",
            "score avg of last 100 episodes @ 6300 is 188.76\n",
            "score avg of last 100 episodes @ 6400 is 158.71\n",
            "score avg of last 100 episodes @ 6500 is 177.16\n",
            "score avg of last 100 episodes @ 6600 is 196.79\n",
            "score avg of last 100 episodes @ 6700 is 181.9\n",
            "score avg of last 100 episodes @ 6800 is 188.51\n",
            "score avg of last 100 episodes @ 6900 is 186.5\n",
            "score avg of last 100 episodes @ 7000 is 159.82\n",
            "score avg of last 100 episodes @ 7100 is 168.3\n",
            "score avg of last 100 episodes @ 7200 is 174.26\n",
            "score avg of last 100 episodes @ 7300 is 198.43\n",
            "score avg of last 100 episodes @ 7400 is 187.08\n",
            "score avg of last 100 episodes @ 7500 is 192.57\n",
            "score avg of last 100 episodes @ 7600 is 187.88\n",
            "score avg of last 100 episodes @ 7700 is 183.59\n",
            "score avg of last 100 episodes @ 7800 is 158.35\n",
            "score avg of last 100 episodes @ 7900 is 170.06\n",
            "score avg of last 100 episodes @ 8000 is 175.93\n",
            "score avg of last 100 episodes @ 8100 is 188.37\n",
            "score avg of last 100 episodes @ 8200 is 172.08\n",
            "score avg of last 100 episodes @ 8300 is 173.46\n",
            "score avg of last 100 episodes @ 8400 is 170.33\n",
            "score avg of last 100 episodes @ 8500 is 159.91\n",
            "score avg of last 100 episodes @ 8600 is 154.68\n",
            "score avg of last 100 episodes @ 8700 is 160.56\n",
            "score avg of last 100 episodes @ 8800 is 166.05\n",
            "score avg of last 100 episodes @ 8900 is 147.47\n",
            "score avg of last 100 episodes @ 9000 is 178.63\n",
            "score avg of last 100 episodes @ 9100 is 150.46\n",
            "score avg of last 100 episodes @ 9200 is 171.82\n",
            "score avg of last 100 episodes @ 9300 is 161.15\n",
            "score avg of last 100 episodes @ 9400 is 171.57\n",
            "score avg of last 100 episodes @ 9500 is 189.42\n",
            "score avg of last 100 episodes @ 9600 is 187.18\n",
            "score avg of last 100 episodes @ 9700 is 197.39\n",
            "score avg of last 100 episodes @ 9800 is 177.55\n",
            "score avg of last 100 episodes @ 9900 is 162.35\n"
          ]
        }
      ],
      "source": [
        "avg = 0\n",
        "for episode in range(10000):\n",
        "  epsilon = epsilon*0.99995\n",
        "  score = run_sim()\n",
        "  avg += score\n",
        "  if episode % 100 == 0:\n",
        "    avg = avg / 100.0\n",
        "    print(f'score avg of last 100 episodes @ {episode} is {avg}')\n",
        "    avg = 0"
      ]
    },
    {
      "cell_type": "code",
      "execution_count": null,
      "metadata": {
        "colab": {
          "base_uri": "https://localhost:8080/"
        },
        "id": "1wO2-_76oNy9",
        "outputId": "b4e1fe74-c9da-4745-b307-475f94205119"
      },
      "outputs": [
        {
          "data": {
            "text/plain": [
              "0.02462396049024598"
            ]
          },
          "execution_count": 19,
          "metadata": {},
          "output_type": "execute_result"
        }
      ],
      "source": [
        "epsilon"
      ]
    },
    {
      "cell_type": "code",
      "execution_count": null,
      "metadata": {
        "id": "V2xtujATUqTN"
      },
      "outputs": [],
      "source": [
        "def run_optimal():\n",
        "  observation = env.reset() # Reset the environment\n",
        "  observation = tuple(bucketize(observation))\n",
        "  score = 0\n",
        "  while True:\n",
        "      env.render()\n",
        "      if observation in qtable:\n",
        "        optimal_action = np.argmax(qtable[observation]['r'])\n",
        "        action = optimal_action\n",
        "      else:\n",
        "        print('new observation!')\n",
        "        action = rng.choice([0, 1])\n",
        "        qtable[observation] = {'r': [0, 0], 'steps': [0, 0]}\n",
        "      qtable[observation]['steps'][action] += 1\n",
        "      current_reward = qtable[observation]['r'][action]\n",
        "      new_observation, reward, done, info = env.step(action) \n",
        "      observation = tuple(bucketize(new_observation))\n",
        "      #avg reward\n",
        "      # qtable[observation]['r'][action] += current_reward + ((reward - current_reward) / qtable[observation]['steps'][action]) + 0.1*score\n",
        "      # print(observation)\n",
        "      # observation = tuple(np.around(o, 2) for o in new_observation)\n",
        "      score += reward         \n",
        "      if done: \n",
        "        break;             \n",
        "  print(score)\n",
        "  show_video()\n",
        "  env.close()"
      ]
    },
    {
      "cell_type": "code",
      "execution_count": null,
      "metadata": {
        "colab": {
          "background_save": true,
          "base_uri": "https://localhost:8080/",
          "height": 439
        },
        "id": "bwMNe76hQLXh",
        "outputId": "ce59d4c9-3ee0-46a8-aba6-5e1d485e74dd"
      },
      "outputs": [
        {
          "name": "stdout",
          "output_type": "stream",
          "text": [
            "226.0\n"
          ]
        },
        {
          "data": {
            "text/html": [
              "<video alt=\"test\" autoplay \n",
              "                loop controls style=\"height: 400px;\">\n",
              "                <source src=\"data:video/mp4;base64,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\" type=\"video/mp4\" />\n",
              "             </video>"
            ],
            "text/plain": [
              "<IPython.core.display.HTML object>"
            ]
          },
          "metadata": {},
          "output_type": "display_data"
        }
      ],
      "source": [
        "run_optimal()"
      ]
    },
    {
      "cell_type": "code",
      "execution_count": null,
      "metadata": {
        "colab": {
          "background_save": true,
          "base_uri": "https://localhost:8080/",
          "height": 422
        },
        "id": "6lzHpkSPVERK",
        "outputId": "12449a03-bbf8-43b2-e227-f0e4409b2b53"
      },
      "outputs": [
        {
          "data": {
            "text/html": [
              "<video alt=\"test\" autoplay \n",
              "                loop controls style=\"height: 400px;\">\n",
              "                <source src=\"data:video/mp4;base64,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\" type=\"video/mp4\" />\n",
              "             </video>"
            ],
            "text/plain": [
              "<IPython.core.display.HTML object>"
            ]
          },
          "metadata": {},
          "output_type": "display_data"
        }
      ],
      "source": [
        "show_video()"
      ]
    },
    {
      "cell_type": "code",
      "execution_count": null,
      "metadata": {
        "id": "_qKvRWjqduD5"
      },
      "outputs": [],
      "source": [
        ""
      ]
    }
  ],
  "metadata": {
    "colab": {
      "collapsed_sections": [],
      "name": "CartPole.ipynb",
      "provenance": [],
      "authorship_tag": "ABX9TyMFCjlUOcpeIZtYzyPvPvb3",
      "include_colab_link": true
    },
    "kernelspec": {
      "display_name": "Python 3",
      "name": "python3"
    },
    "language_info": {
      "name": "python"
    }
  },
  "nbformat": 4,
  "nbformat_minor": 0
}